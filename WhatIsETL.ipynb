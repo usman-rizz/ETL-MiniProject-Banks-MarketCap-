{
 "cells": [
  {
   "cell_type": "markdown",
   "id": "be1f3cc2",
   "metadata": {},
   "source": [
    "<h1 align=\"center\" style=\"background-color:#001f3f;\n",
    "           color:white;\n",
    "           border-radius:8px;\n",
    "           font-family:'Times New Roman', Times, serif;\n",
    "           padding:20px;\n",
    "           display:inline-block;\">\n",
    "  What is ETL?\n",
    "</h1>\n",
    "\n",
    "<hr>\n",
    "\n",
    "<p align=\"center\"><b>Author:</b> Muhammad Usman</p>\n",
    "<p align=\"center\"><b>Dated:</b> 28/Sept/2025</p>\n"
   ]
  },
  {
   "cell_type": "markdown",
   "id": "a299f280",
   "metadata": {},
   "source": [
    "`ETL` stands for `Extract`, `Transform`, and `Load`.\n",
    "\n",
    "It’s the process of moving data from `different sources`, `cleaning` and `reshaping it`, and then `loading` it into a destination system like a `database` or `data warehouse`.\n",
    "\n",
    ">Extract → Getting raw data from multiple sources such as APIs, files, or web pages.\n",
    "\n",
    ">Transform → Cleaning, standardizing, and applying business rules to make the data useful.\n",
    "\n",
    ">Load → Storing the processed data in a structured way for analysis or reporting."
   ]
  },
  {
   "cell_type": "markdown",
   "id": "78e51653",
   "metadata": {},
   "source": [
    "<h1 align=\"center\" style=\"background-color:#001f3f;\n",
    "           color:white;\n",
    "           border-radius:8px;\n",
    "           font-family:'Times New Roman', Times, serif;\n",
    "           padding:20px;\n",
    "           display:inline-block;\">\n",
    "  Why do we use ETL?\n",
    "</h1>"
   ]
  },
  {
   "cell_type": "markdown",
   "id": "3b95cf0f",
   "metadata": {},
   "source": [
    "In industry, data usually comes from scattered systems, one team might store data in Excel, another in SQL databases, and another via APIs.\\\n",
    "ETL brings all this data together in a `consistent format` so businesses can trust their reports, build dashboards, or even train machine learning models.\n",
    "\n",
    "Without ETL, companies spend a lot of time just fixing messy data instead of getting insights."
   ]
  },
  {
   "cell_type": "markdown",
   "id": "bad85e90",
   "metadata": {},
   "source": [
    "<h1 align=\"center\" style=\"background-color:#001f3f;\n",
    "           color:white;\n",
    "           border-radius:8px;\n",
    "           font-family:'Times New Roman', Times, serif;\n",
    "           padding:20px;\n",
    "           display:inline-block;\">\n",
    "  ETL vs ELT  \n",
    "</h1>\n",
    "<p>Very Common Interview Question<p>"
   ]
  },
  {
   "cell_type": "markdown",
   "id": "ff773625",
   "metadata": {},
   "source": [
    "Some people may get confused between `ETL and ELT` because the terms look very similar, but they are quite different in practice.\n",
    "\n",
    "><b>ETL (Extract → Transform → Load)</b>\n",
    "\n",
    "In `ETL`, the data is `transformed first` (cleaned, aggregated, reshaped) and then loaded into the target system.\n",
    "\n",
    "<b>Example</b>: <p>You process raw CSV files with Python or Informatica, then load the clean data into a MySQL or Oracle database.<p>\n",
    "\n",
    "\\\n",
    "\n",
    ">**ELT (Extract → Load → Transform)**\n",
    "\n",
    "In `ELT`, the data is `loaded first` into the target system and then transformed inside it.\n",
    "\n",
    "This is common with modern cloud data warehouses like Snowflake, BigQuery, or Redshift, which are designed to handle heavy transformations at scale.\n",
    "\n",
    "<b>Example:</b> You dump raw data into BigQuery, then use SQL queries inside BigQuery to clean and shape it.\n"
   ]
  }
 ],
 "metadata": {
  "language_info": {
   "name": "python"
  }
 },
 "nbformat": 4,
 "nbformat_minor": 5
}
