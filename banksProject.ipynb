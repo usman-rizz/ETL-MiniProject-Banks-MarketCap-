{
 "cells": [
  {
   "cell_type": "markdown",
   "id": "c276921a",
   "metadata": {},
   "source": [
    "## **A basic Extract, Transform and Load (ETL) pipeline using web scrapping, pandas and sql**"
   ]
  },
  {
   "cell_type": "markdown",
   "id": "417d4c44",
   "metadata": {},
   "source": [
    "### **Step 0: Importing Libraries**"
   ]
  },
  {
   "cell_type": "code",
   "execution_count": 9,
   "id": "997f354a",
   "metadata": {},
   "outputs": [],
   "source": [
    "from io import StringIO\n",
    "import requests\n",
    "from bs4 import BeautifulSoup\n",
    "import pandas as pd\n",
    "import sqlite3\n",
    "from datetime import datetime"
   ]
  },
  {
   "cell_type": "markdown",
   "id": "9a7a27df",
   "metadata": {},
   "source": [
    "### **Step 1: Maintaining a Log File**\n",
    "This step is done to record the logs while performing ETL and it is not neccessary in an ETL Pipeline"
   ]
  },
  {
   "cell_type": "code",
   "execution_count": 10,
   "id": "a46302fa",
   "metadata": {},
   "outputs": [],
   "source": [
    "def log_progress(message):\n",
    "    \n",
    "    \"\"\"This function, logs the mentioned message of a given stage of the\n",
    "    code execution to a log file. Function returns nothing\"\"\"\n",
    "\n",
    "    with open(\"./logs/code_logs.txt\", 'a') as f:\n",
    "        f.write(f\"{datetime.now()}: {message}\\n\")"
   ]
  },
  {
   "cell_type": "markdown",
   "id": "994829e0",
   "metadata": {},
   "source": [
    "### **Step 2: Extract A Data from Website**"
   ]
  },
  {
   "cell_type": "code",
   "execution_count": 11,
   "id": "ce9bf936",
   "metadata": {},
   "outputs": [
    {
     "data": {
      "application/vnd.microsoft.datawrangler.viewer.v0+json": {
       "columns": [
        {
         "name": "index",
         "rawType": "int64",
         "type": "integer"
        },
        {
         "name": "Rank",
         "rawType": "int64",
         "type": "integer"
        },
        {
         "name": "Bank name",
         "rawType": "object",
         "type": "string"
        },
        {
         "name": "Market cap (US$ billion)",
         "rawType": "float64",
         "type": "float"
        }
       ],
       "ref": "c9b69634-6ff5-47bb-b2eb-d28fcfeed89a",
       "rows": [
        [
         "0",
         "1",
         "JPMorgan Chase",
         "432.92"
        ],
        [
         "1",
         "2",
         "Bank of America",
         "231.52"
        ],
        [
         "2",
         "3",
         "Industrial and Commercial Bank of China",
         "194.56"
        ],
        [
         "3",
         "4",
         "Agricultural Bank of China",
         "160.68"
        ],
        [
         "4",
         "5",
         "HDFC Bank",
         "157.91"
        ],
        [
         "5",
         "6",
         "Wells Fargo",
         "155.87"
        ],
        [
         "6",
         "7",
         "HSBC Holdings PLC",
         "148.9"
        ],
        [
         "7",
         "8",
         "Morgan Stanley",
         "140.83"
        ],
        [
         "8",
         "9",
         "China Construction Bank",
         "139.82"
        ],
        [
         "9",
         "10",
         "Bank of China",
         "136.81"
        ]
       ],
       "shape": {
        "columns": 3,
        "rows": 10
       }
      },
      "text/html": [
       "<div>\n",
       "<style scoped>\n",
       "    .dataframe tbody tr th:only-of-type {\n",
       "        vertical-align: middle;\n",
       "    }\n",
       "\n",
       "    .dataframe tbody tr th {\n",
       "        vertical-align: top;\n",
       "    }\n",
       "\n",
       "    .dataframe thead th {\n",
       "        text-align: right;\n",
       "    }\n",
       "</style>\n",
       "<table border=\"1\" class=\"dataframe\">\n",
       "  <thead>\n",
       "    <tr style=\"text-align: right;\">\n",
       "      <th></th>\n",
       "      <th>Rank</th>\n",
       "      <th>Bank name</th>\n",
       "      <th>Market cap (US$ billion)</th>\n",
       "    </tr>\n",
       "  </thead>\n",
       "  <tbody>\n",
       "    <tr>\n",
       "      <th>0</th>\n",
       "      <td>1</td>\n",
       "      <td>JPMorgan Chase</td>\n",
       "      <td>432.92</td>\n",
       "    </tr>\n",
       "    <tr>\n",
       "      <th>1</th>\n",
       "      <td>2</td>\n",
       "      <td>Bank of America</td>\n",
       "      <td>231.52</td>\n",
       "    </tr>\n",
       "    <tr>\n",
       "      <th>2</th>\n",
       "      <td>3</td>\n",
       "      <td>Industrial and Commercial Bank of China</td>\n",
       "      <td>194.56</td>\n",
       "    </tr>\n",
       "    <tr>\n",
       "      <th>3</th>\n",
       "      <td>4</td>\n",
       "      <td>Agricultural Bank of China</td>\n",
       "      <td>160.68</td>\n",
       "    </tr>\n",
       "    <tr>\n",
       "      <th>4</th>\n",
       "      <td>5</td>\n",
       "      <td>HDFC Bank</td>\n",
       "      <td>157.91</td>\n",
       "    </tr>\n",
       "    <tr>\n",
       "      <th>5</th>\n",
       "      <td>6</td>\n",
       "      <td>Wells Fargo</td>\n",
       "      <td>155.87</td>\n",
       "    </tr>\n",
       "    <tr>\n",
       "      <th>6</th>\n",
       "      <td>7</td>\n",
       "      <td>HSBC Holdings PLC</td>\n",
       "      <td>148.90</td>\n",
       "    </tr>\n",
       "    <tr>\n",
       "      <th>7</th>\n",
       "      <td>8</td>\n",
       "      <td>Morgan Stanley</td>\n",
       "      <td>140.83</td>\n",
       "    </tr>\n",
       "    <tr>\n",
       "      <th>8</th>\n",
       "      <td>9</td>\n",
       "      <td>China Construction Bank</td>\n",
       "      <td>139.82</td>\n",
       "    </tr>\n",
       "    <tr>\n",
       "      <th>9</th>\n",
       "      <td>10</td>\n",
       "      <td>Bank of China</td>\n",
       "      <td>136.81</td>\n",
       "    </tr>\n",
       "  </tbody>\n",
       "</table>\n",
       "</div>"
      ],
      "text/plain": [
       "   Rank                                Bank name  Market cap (US$ billion)\n",
       "0     1                           JPMorgan Chase                    432.92\n",
       "1     2                          Bank of America                    231.52\n",
       "2     3  Industrial and Commercial Bank of China                    194.56\n",
       "3     4               Agricultural Bank of China                    160.68\n",
       "4     5                                HDFC Bank                    157.91\n",
       "5     6                              Wells Fargo                    155.87\n",
       "6     7                        HSBC Holdings PLC                    148.90\n",
       "7     8                           Morgan Stanley                    140.83\n",
       "8     9                  China Construction Bank                    139.82\n",
       "9    10                            Bank of China                    136.81"
      ]
     },
     "execution_count": 11,
     "metadata": {},
     "output_type": "execute_result"
    }
   ],
   "source": [
    "# First Extract the data through Website\n",
    "url = 'https://web.archive.org/web/20230908091635/https://en.wikipedia.org/wiki/List_of_largest_banks'\n",
    "\n",
    "# Specify the target table we want to extract (table titled \"By market capitalization\")\n",
    "table_attribs = 'By market capitalization'\n",
    "\n",
    "# Send an HTTP request to the webpage and parse the HTML content using BeautifulSoup \n",
    "soup = BeautifulSoup(requests.get(url).text,\"html.parser\")\n",
    "\n",
    "# Locate the required table by finding the heading text, \n",
    "# then navigating to the next <table> element after that heading\n",
    "table = soup.find('span', string= table_attribs).find_next('table')\n",
    "\n",
    "# Convert the extracted HTML table into a structured pandas DataFrame\n",
    "df = pd.read_html(StringIO(str(table)))[0]\n",
    "\n",
    "log_progress('Data extraction complete. Initiating Transformation process')\n",
    "\n",
    "# show df\n",
    "df"
   ]
  },
  {
   "cell_type": "markdown",
   "id": "980c22a9",
   "metadata": {},
   "source": [
    "### **Step 3: Transforming the Data**"
   ]
  },
  {
   "cell_type": "code",
   "execution_count": null,
   "id": "316f7833",
   "metadata": {},
   "outputs": [
    {
     "data": {
      "application/vnd.microsoft.datawrangler.viewer.v0+json": {
       "columns": [
        {
         "name": "index",
         "rawType": "int64",
         "type": "integer"
        },
        {
         "name": "Rank",
         "rawType": "int64",
         "type": "integer"
        },
        {
         "name": "Bank name",
         "rawType": "object",
         "type": "string"
        },
        {
         "name": "Market cap (US$ billion)",
         "rawType": "float64",
         "type": "float"
        },
        {
         "name": "Market cap (EUR billion)",
         "rawType": "float64",
         "type": "float"
        },
        {
         "name": "Market cap (GBP billion)",
         "rawType": "float64",
         "type": "float"
        },
        {
         "name": "Market cap (INR billion)",
         "rawType": "float64",
         "type": "float"
        }
       ],
       "ref": "386160d4-8dfc-42f2-b330-682c1cd1b827",
       "rows": [
        [
         "0",
         "1",
         "JPMorgan Chase",
         "432.92",
         "419.93",
         "346.34",
         "36798.2"
        ],
        [
         "1",
         "2",
         "Bank of America",
         "231.52",
         "224.57",
         "185.22",
         "19679.2"
        ],
        [
         "2",
         "3",
         "Industrial and Commercial Bank of China",
         "194.56",
         "188.72",
         "155.65",
         "16537.6"
        ],
        [
         "3",
         "4",
         "Agricultural Bank of China",
         "160.68",
         "155.86",
         "128.54",
         "13657.8"
        ],
        [
         "4",
         "5",
         "HDFC Bank",
         "157.91",
         "153.17",
         "126.33",
         "13422.35"
        ],
        [
         "5",
         "6",
         "Wells Fargo",
         "155.87",
         "151.19",
         "124.7",
         "13248.95"
        ],
        [
         "6",
         "7",
         "HSBC Holdings PLC",
         "148.9",
         "144.43",
         "119.12",
         "12656.5"
        ],
        [
         "7",
         "8",
         "Morgan Stanley",
         "140.83",
         "136.61",
         "112.66",
         "11970.55"
        ],
        [
         "8",
         "9",
         "China Construction Bank",
         "139.82",
         "135.63",
         "111.86",
         "11884.7"
        ],
        [
         "9",
         "10",
         "Bank of China",
         "136.81",
         "132.71",
         "109.45",
         "11628.85"
        ]
       ],
       "shape": {
        "columns": 6,
        "rows": 10
       }
      },
      "text/html": [
       "<div>\n",
       "<style scoped>\n",
       "    .dataframe tbody tr th:only-of-type {\n",
       "        vertical-align: middle;\n",
       "    }\n",
       "\n",
       "    .dataframe tbody tr th {\n",
       "        vertical-align: top;\n",
       "    }\n",
       "\n",
       "    .dataframe thead th {\n",
       "        text-align: right;\n",
       "    }\n",
       "</style>\n",
       "<table border=\"1\" class=\"dataframe\">\n",
       "  <thead>\n",
       "    <tr style=\"text-align: right;\">\n",
       "      <th></th>\n",
       "      <th>Rank</th>\n",
       "      <th>Bank name</th>\n",
       "      <th>Market cap (US$ billion)</th>\n",
       "      <th>Market cap (EUR billion)</th>\n",
       "      <th>Market cap (GBP billion)</th>\n",
       "      <th>Market cap (INR billion)</th>\n",
       "    </tr>\n",
       "  </thead>\n",
       "  <tbody>\n",
       "    <tr>\n",
       "      <th>0</th>\n",
       "      <td>1</td>\n",
       "      <td>JPMorgan Chase</td>\n",
       "      <td>432.92</td>\n",
       "      <td>419.93</td>\n",
       "      <td>346.34</td>\n",
       "      <td>36798.20</td>\n",
       "    </tr>\n",
       "    <tr>\n",
       "      <th>1</th>\n",
       "      <td>2</td>\n",
       "      <td>Bank of America</td>\n",
       "      <td>231.52</td>\n",
       "      <td>224.57</td>\n",
       "      <td>185.22</td>\n",
       "      <td>19679.20</td>\n",
       "    </tr>\n",
       "    <tr>\n",
       "      <th>2</th>\n",
       "      <td>3</td>\n",
       "      <td>Industrial and Commercial Bank of China</td>\n",
       "      <td>194.56</td>\n",
       "      <td>188.72</td>\n",
       "      <td>155.65</td>\n",
       "      <td>16537.60</td>\n",
       "    </tr>\n",
       "    <tr>\n",
       "      <th>3</th>\n",
       "      <td>4</td>\n",
       "      <td>Agricultural Bank of China</td>\n",
       "      <td>160.68</td>\n",
       "      <td>155.86</td>\n",
       "      <td>128.54</td>\n",
       "      <td>13657.80</td>\n",
       "    </tr>\n",
       "    <tr>\n",
       "      <th>4</th>\n",
       "      <td>5</td>\n",
       "      <td>HDFC Bank</td>\n",
       "      <td>157.91</td>\n",
       "      <td>153.17</td>\n",
       "      <td>126.33</td>\n",
       "      <td>13422.35</td>\n",
       "    </tr>\n",
       "    <tr>\n",
       "      <th>5</th>\n",
       "      <td>6</td>\n",
       "      <td>Wells Fargo</td>\n",
       "      <td>155.87</td>\n",
       "      <td>151.19</td>\n",
       "      <td>124.70</td>\n",
       "      <td>13248.95</td>\n",
       "    </tr>\n",
       "    <tr>\n",
       "      <th>6</th>\n",
       "      <td>7</td>\n",
       "      <td>HSBC Holdings PLC</td>\n",
       "      <td>148.90</td>\n",
       "      <td>144.43</td>\n",
       "      <td>119.12</td>\n",
       "      <td>12656.50</td>\n",
       "    </tr>\n",
       "    <tr>\n",
       "      <th>7</th>\n",
       "      <td>8</td>\n",
       "      <td>Morgan Stanley</td>\n",
       "      <td>140.83</td>\n",
       "      <td>136.61</td>\n",
       "      <td>112.66</td>\n",
       "      <td>11970.55</td>\n",
       "    </tr>\n",
       "    <tr>\n",
       "      <th>8</th>\n",
       "      <td>9</td>\n",
       "      <td>China Construction Bank</td>\n",
       "      <td>139.82</td>\n",
       "      <td>135.63</td>\n",
       "      <td>111.86</td>\n",
       "      <td>11884.70</td>\n",
       "    </tr>\n",
       "    <tr>\n",
       "      <th>9</th>\n",
       "      <td>10</td>\n",
       "      <td>Bank of China</td>\n",
       "      <td>136.81</td>\n",
       "      <td>132.71</td>\n",
       "      <td>109.45</td>\n",
       "      <td>11628.85</td>\n",
       "    </tr>\n",
       "  </tbody>\n",
       "</table>\n",
       "</div>"
      ],
      "text/plain": [
       "   Rank                                Bank name  Market cap (US$ billion)  \\\n",
       "0     1                           JPMorgan Chase                    432.92   \n",
       "1     2                          Bank of America                    231.52   \n",
       "2     3  Industrial and Commercial Bank of China                    194.56   \n",
       "3     4               Agricultural Bank of China                    160.68   \n",
       "4     5                                HDFC Bank                    157.91   \n",
       "5     6                              Wells Fargo                    155.87   \n",
       "6     7                        HSBC Holdings PLC                    148.90   \n",
       "7     8                           Morgan Stanley                    140.83   \n",
       "8     9                  China Construction Bank                    139.82   \n",
       "9    10                            Bank of China                    136.81   \n",
       "\n",
       "   Market cap (EUR billion)  Market cap (GBP billion)  \\\n",
       "0                    419.93                    346.34   \n",
       "1                    224.57                    185.22   \n",
       "2                    188.72                    155.65   \n",
       "3                    155.86                    128.54   \n",
       "4                    153.17                    126.33   \n",
       "5                    151.19                    124.70   \n",
       "6                    144.43                    119.12   \n",
       "7                    136.61                    112.66   \n",
       "8                    135.63                    111.86   \n",
       "9                    132.71                    109.45   \n",
       "\n",
       "   Market cap (INR billion)  \n",
       "0                  36798.20  \n",
       "1                  19679.20  \n",
       "2                  16537.60  \n",
       "3                  13657.80  \n",
       "4                  13422.35  \n",
       "5                  13248.95  \n",
       "6                  12656.50  \n",
       "7                  11970.55  \n",
       "8                  11884.70  \n",
       "9                  11628.85  "
      ]
     },
     "execution_count": 48,
     "metadata": {},
     "output_type": "execute_result"
    }
   ],
   "source": [
    "#  Loading csv files(exchange_rate.csv) to convert Market Cap values from USD into other currencies.\n",
    "\n",
    "# Convert it into dictionary for quick key-based lookup of rates (e.g., \"EUR\", \"GBP\", \"INR\").\n",
    "# 'index_col=0' sets the first column as the key, and we extract the \"Rate\" column\n",
    "exchange_rateData = pd.read_csv(\"./input/exchange_rate.csv\", index_col= 0).to_dict()[\"Rate\"]\n",
    "\n",
    "# Now convert the currencies using the exchange rates\n",
    "\n",
    "# Add a new column: Market Cap converted from US$ to EUR (rounded to 2 decimals)\n",
    "df[\"Market cap (EUR billion)\"] = round(df[\"Market cap (US$ billion)\"] * exchange_rateData[\"EUR\"], 2)\n",
    "\n",
    "# Add a new column: Market Cap converted from USD to GBP (rounded to 2 decimals)\n",
    "df[\"Market cap (GBP billion)\"] = round(df[\"Market cap (US$ billion)\"] * exchange_rateData[\"GBP\"], 2)\n",
    "\n",
    "# Add a new column: Market Cap converted from USD to INR (rounded to 2 decimals)\n",
    "df[\"Market cap (INR billion)\"] = round(df[\"Market cap (US$ billion)\"] * exchange_rateData[\"INR\"], 2)\n",
    "\n",
    "# Display the transformed DataFrame\n",
    "df"
   ]
  },
  {
   "cell_type": "markdown",
   "id": "7ae079bf",
   "metadata": {},
   "source": [
    "### **Step 4(a) Process of loading the data into CSV**"
   ]
  },
  {
   "cell_type": "code",
   "execution_count": null,
   "id": "b3c5e301",
   "metadata": {},
   "outputs": [],
   "source": [
    "# Create a folder named \"output\"(or with any other name), then export the file with file_name.csv and store it in avariable\n",
    "\n",
    "transformed_Table = df.to_csv(\"./output/transformedData.csv\")"
   ]
  },
  {
   "cell_type": "markdown",
   "id": "c7d89a84",
   "metadata": {},
   "source": [
    "### **Step 4(b) Process of loading the data into database**"
   ]
  },
  {
   "cell_type": "code",
   "execution_count": null,
   "id": "b45fc513",
   "metadata": {},
   "outputs": [],
   "source": [
    "# Define database path and target table name for storing the data\n",
    "db_path = \"./output/Banks.db\"\n",
    "table_name = \"By market capitalization\"\n",
    "\n",
    "# Establish a connection to the SQLite database (creates file if it doesn’t exist)\n",
    "conn = sqlite3.connect(db_path)\n",
    "cur = conn.cursor()\n",
    "\n",
    "# Load the transformed DataFrame into SQLite database as a new table\n",
    "df.to_sql(table_name, conn, if_exists= \"replace\", index=False)\n",
    "\n",
    "# Query function to execute SQL queries on the database\n",
    "def run_query(query_statement, conn):\n",
    "    \"\"\" This function runs the query on the database table and\n",
    "    prints the output on the terminal. Function returns nothing. \"\"\"\n",
    "    \n",
    "    cursor = conn.cursor()\n",
    "    # cursor = sql_connection.cursor()\n",
    "    cursor.execute(query_statement)\n",
    "    result = cursor.fetchall()\n",
    "\n",
    "    return result\n",
    "\n",
    "# Run SQL queries on the stored data and display the results\n",
    "print(run_query('SELECT * FROM Largest_banks', conn))\n",
    "\n",
    "print(run_query('SELECT AVG(\"Market cap (GBP billion)\") FROM Largest_banks', conn))\n",
    "\n",
    "print(run_query('SELECT \"Bank name\" FROM Largest_banks LIMIT 5', conn))"
   ]
  }
 ],
 "metadata": {
  "kernelspec": {
   "display_name": "Python 3",
   "language": "python",
   "name": "python3"
  },
  "language_info": {
   "codemirror_mode": {
    "name": "ipython",
    "version": 3
   },
   "file_extension": ".py",
   "mimetype": "text/x-python",
   "name": "python",
   "nbconvert_exporter": "python",
   "pygments_lexer": "ipython3",
   "version": "3.12.0"
  }
 },
 "nbformat": 4,
 "nbformat_minor": 5
}
